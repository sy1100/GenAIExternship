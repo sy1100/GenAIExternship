{
 "cells": [
  {
   "cell_type": "markdown",
   "id": "729d0e03-82a1-4cf3-8595-f665a211c8a2",
   "metadata": {},
   "source": [
    "# Task 1"
   ]
  },
  {
   "cell_type": "code",
   "execution_count": 1,
   "id": "9be4262b-b80b-41a8-97ac-61de21bfb3a5",
   "metadata": {},
   "outputs": [
    {
     "name": "stdin",
     "output_type": "stream",
     "text": [
      "Enter the starting number:  5\n"
     ]
    },
    {
     "name": "stdout",
     "output_type": "stream",
     "text": [
      "5 4 3 2 1 Blast off🚀\n"
     ]
    }
   ],
   "source": [
    "starting_number = int(input(\"Enter the starting number: \"))\n",
    "\n",
    "while starting_number != 0:\n",
    "    print(starting_number, end = \" \")\n",
    "    starting_number -= 1\n",
    "print (\"Blast off🚀\")"
   ]
  },
  {
   "cell_type": "markdown",
   "id": "63472c1a-7f1b-40c0-91ed-42a0398c96ae",
   "metadata": {},
   "source": [
    "# Task 2"
   ]
  },
  {
   "cell_type": "code",
   "execution_count": 2,
   "id": "64f78421-aae9-4d27-a571-36db41b2aa96",
   "metadata": {},
   "outputs": [
    {
     "name": "stdin",
     "output_type": "stream",
     "text": [
      "Enter a number: 4\n"
     ]
    },
    {
     "name": "stdout",
     "output_type": "stream",
     "text": [
      "4 x 1 = 4 4 x 2 = 8 4 x 3 = 12 4 x 4 = 16 4 x 5 = 20 4 x 6 = 24 4 x 7 = 28 4 x 8 = 32 4 x 9 = 36 4 x 10 = 40 "
     ]
    }
   ],
   "source": [
    "user_input = int(input(\"Enter a number:\"))\n",
    "for i in range(1,11):\n",
    "    result = user_input * i\n",
    "    print(str(user_input)+\" x \"+ str(i)+ \" = \"+str(result), end= \" \")"
   ]
  },
  {
   "cell_type": "markdown",
   "id": "5b26d973-3e8d-4867-9f0f-38f66b6cdb4f",
   "metadata": {},
   "source": [
    "# Task 3"
   ]
  },
  {
   "cell_type": "code",
   "execution_count": 3,
   "id": "86fa28a5-2541-4727-8712-946c86aa1fea",
   "metadata": {},
   "outputs": [
    {
     "name": "stdin",
     "output_type": "stream",
     "text": [
      "Enter a number: 5\n"
     ]
    },
    {
     "name": "stdout",
     "output_type": "stream",
     "text": [
      "The factorial of 5 is 120.\n"
     ]
    }
   ],
   "source": [
    "user_input = int(input(\"Enter a number:\"))\n",
    "result = 1\n",
    "for i in range (1,user_input+1):\n",
    "    result *= i \n",
    "print(\"The factorial of \" + str(user_input) + \" is \" + str(result) + \".\")\n"
   ]
  }
 ],
 "metadata": {
  "kernelspec": {
   "display_name": "Python 3 (ipykernel)",
   "language": "python",
   "name": "python3"
  },
  "language_info": {
   "codemirror_mode": {
    "name": "ipython",
    "version": 3
   },
   "file_extension": ".py",
   "mimetype": "text/x-python",
   "name": "python",
   "nbconvert_exporter": "python",
   "pygments_lexer": "ipython3",
   "version": "3.13.1"
  }
 },
 "nbformat": 4,
 "nbformat_minor": 5
}
