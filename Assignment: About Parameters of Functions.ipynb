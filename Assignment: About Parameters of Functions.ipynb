{
 "cells": [
  {
   "metadata": {},
   "cell_type": "markdown",
   "source": "Task 1",
   "id": "a7d09810b1f82ff2"
  },
  {
   "metadata": {
    "ExecuteTime": {
     "end_time": "2025-05-18T07:10:37.102699Z",
     "start_time": "2025-05-18T07:10:37.095707Z"
    }
   },
   "cell_type": "code",
   "source": [
    "def greet_user(name):\n",
    "    return \"Hello, \"+ name + \"! Welcome aboard.\"\n",
    "\n",
    "print(greet_user(\"Alice\"),end =\" \")\n",
    "\n",
    "\n",
    "def add_numbers(num_1, num_2):\n",
    "    return num_1 + num_2\n",
    "\n",
    "num_1 = 5\n",
    "num_2 = 10\n",
    "print(\"The sum of \"+ str(num_1)+\" and \"+str(num_2)+\" is \"+str(add_numbers(num_1, num_2))+\".\")"
   ],
   "id": "8626ffa505f6db5d",
   "outputs": [
    {
     "name": "stdout",
     "output_type": "stream",
     "text": [
      "Hello, Alice! Welcome aboard. The sum of 5 and 10 is 15.\n"
     ]
    }
   ],
   "execution_count": 1
  },
  {
   "metadata": {},
   "cell_type": "markdown",
   "source": "Task 2",
   "id": "62538df7ab30fe04"
  },
  {
   "metadata": {
    "ExecuteTime": {
     "end_time": "2025-05-18T07:11:23.735648Z",
     "start_time": "2025-05-18T07:11:23.725226Z"
    }
   },
   "cell_type": "code",
   "source": [
    "def describe_pet(pet_name, animal_type =\"dog\"):\n",
    "    return \"I have a \" + animal_type + \" named \" + pet_name + \".\"\n",
    "\n",
    "print(describe_pet(\"Buddy\"),end=\" \")\n",
    "print(describe_pet(\"Whiskers\",\"cat\"))"
   ],
   "id": "cfa798a5958b8843",
   "outputs": [
    {
     "name": "stdout",
     "output_type": "stream",
     "text": [
      "I have a dog named Buddy. I have a cat named Whiskers.\n"
     ]
    }
   ],
   "execution_count": 2
  },
  {
   "metadata": {},
   "cell_type": "markdown",
   "source": "Task 3",
   "id": "6c67df29dc3df359"
  },
  {
   "metadata": {
    "ExecuteTime": {
     "end_time": "2025-05-18T07:11:48.244609Z",
     "start_time": "2025-05-18T07:11:48.236645Z"
    }
   },
   "cell_type": "code",
   "source": [
    "def make_sandwich(*args):\n",
    "    print(\"Making a sandwich with the following ingredients: \", end= \" \")\n",
    "    for arg in args:\n",
    "        print(f\" -{arg}\", end = \" \")\n",
    "\n",
    "make_sandwich(\"Lettuce\", \"Tomato\",\"Cheese\")"
   ],
   "id": "73e47c5123f38bb",
   "outputs": [
    {
     "name": "stdout",
     "output_type": "stream",
     "text": [
      "Making a sandwich with the following ingredients:   -Lettuce  -Tomato  -Cheese "
     ]
    }
   ],
   "execution_count": 3
  },
  {
   "metadata": {},
   "cell_type": "markdown",
   "source": "Task 4",
   "id": "bc2e7501ed0c9fd"
  },
  {
   "metadata": {
    "ExecuteTime": {
     "end_time": "2025-05-18T07:12:33.145554Z",
     "start_time": "2025-05-18T07:12:33.138619Z"
    }
   },
   "cell_type": "code",
   "source": [
    "def factorial(num):\n",
    "    if num == 1:\n",
    "        return 1\n",
    "    else:\n",
    "        return num * factorial(num-1)\n",
    "num = 5\n",
    "print(\"\\nFactorial of \" + str(num) + \" is\", factorial(num))\n",
    "\n",
    "def fibonacci(num):\n",
    "    if num == 0:\n",
    "        return 0\n",
    "    elif num == 1:\n",
    "        return 1\n",
    "    else:\n",
    "        return fibonacci(num-1) + fibonacci(num-2)\n",
    "num = 6\n",
    "print( \"The \" + str(num) +\"th Fibonacci number is\", fibonacci(num))"
   ],
   "id": "6aa1903695330c34",
   "outputs": [
    {
     "name": "stdout",
     "output_type": "stream",
     "text": [
      "\n",
      "Factorial of 5 is 120\n",
      "The 6th Fibonacci number is 8\n"
     ]
    }
   ],
   "execution_count": 4
  }
 ],
 "metadata": {
  "kernelspec": {
   "display_name": "Python 3",
   "language": "python",
   "name": "python3"
  },
  "language_info": {
   "codemirror_mode": {
    "name": "ipython",
    "version": 2
   },
   "file_extension": ".py",
   "mimetype": "text/x-python",
   "name": "python",
   "nbconvert_exporter": "python",
   "pygments_lexer": "ipython2",
   "version": "2.7.6"
  }
 },
 "nbformat": 4,
 "nbformat_minor": 5
}
