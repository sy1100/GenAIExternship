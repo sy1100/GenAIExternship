{
 "cells": [
  {
   "cell_type": "code",
   "execution_count": 1,
   "id": "34f1e07a-5470-4b88-b3b0-0bdc4a9efff0",
   "metadata": {},
   "outputs": [
    {
     "name": "stdin",
     "output_type": "stream",
     "text": [
      "How old are you?  16\n"
     ]
    },
    {
     "name": "stdout",
     "output_type": "stream",
     "text": [
      "Oops! You're not eligible yet. But hey, only 2 more years to go!\n"
     ]
    }
   ],
   "source": [
    "# Step 1: age variable with user input.\n",
    "age = int(input(\"How old are you? \"))\n",
    "\n",
    "# Step 2: if and elif loop to check eligibility with input age.\n",
    "if age >= 18:\n",
    "    print(\"Congratulations! You are eligible to vote. Go make a difference!\")\n",
    "elif age < 18:\n",
    "    x = 18 - age # x calculate the difference between 18 and user input age.\n",
    "    print(\"Oops! You're not eligible yet. But hey, only \"+ str(x) +\" more years to go!\")"
   ]
  },
  {
   "cell_type": "code",
   "execution_count": 2,
   "id": "61494557-1716-44de-8c1a-1a0a1e81b602",
   "metadata": {},
   "outputs": [
    {
     "name": "stdin",
     "output_type": "stream",
     "text": [
      "How old are you?  20\n"
     ]
    },
    {
     "name": "stdout",
     "output_type": "stream",
     "text": [
      "Congratulations! You are eligible to vote. Go make a difference!\n"
     ]
    }
   ],
   "source": [
    "age = int(input(\"How old are you? \"))\n",
    "if age >= 18:\n",
    "    print(\"Congratulations! You are eligible to vote. Go make a difference!\")\n",
    "elif age < 18:\n",
    "    x = 18 - age\n",
    "    print(\"Oops! You're not eligible yet. But hey, only \"+ str(x) +\" more years to go!\")"
   ]
  }
 ],
 "metadata": {
  "kernelspec": {
   "display_name": "Python 3 (ipykernel)",
   "language": "python",
   "name": "python3"
  },
  "language_info": {
   "codemirror_mode": {
    "name": "ipython",
    "version": 3
   },
   "file_extension": ".py",
   "mimetype": "text/x-python",
   "name": "python",
   "nbconvert_exporter": "python",
   "pygments_lexer": "ipython3",
   "version": "3.13.1"
  }
 },
 "nbformat": 4,
 "nbformat_minor": 5
}
