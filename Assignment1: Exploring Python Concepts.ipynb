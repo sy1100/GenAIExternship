{
 "cells": [
  {
   "cell_type": "markdown",
   "id": "1cc51c99-edf0-466f-b9a2-9efe09f2fdd2",
   "metadata": {},
   "source": [
    "# Task 1"
   ]
  },
  {
   "cell_type": "code",
   "execution_count": 1,
   "id": "79dce40f-09c4-4adf-a761-7c3a36325d1c",
   "metadata": {},
   "outputs": [
    {
     "name": "stdout",
     "output_type": "stream",
     "text": [
      "Hey there, my name is Snoopy! I'm 3 years old and 1.2 feet tall.\n"
     ]
    }
   ],
   "source": [
    "name = \"Snoopy\"\n",
    "age = 3\n",
    "height = 1.2\n",
    "print(\"Hey there, my name is \" + name + \"! I'm \" +str(age) + \" years old and \" + str(height) + \" feet tall.\")"
   ]
  },
  {
   "cell_type": "markdown",
   "id": "414ddcc2-26d7-49ee-8e17-e273fad453d3",
   "metadata": {},
   "source": [
    "# Task 2"
   ]
  },
  {
   "cell_type": "code",
   "execution_count": 2,
   "id": "3471d7b3-30e2-457c-ae7c-cafc8359c602",
   "metadata": {},
   "outputs": [
    {
     "name": "stdout",
     "output_type": "stream",
     "text": [
      "The addition of 100 and 200 is 300\n",
      "The subtraction of 100 and 200 is -100\n",
      "The multiplication of 100 and 200 is 20000\n",
      "The division of 100 and 200 is 0.5\n"
     ]
    }
   ],
   "source": [
    "num1= 100\n",
    "num2 = 200\n",
    "#Addition\n",
    "print(\"The addition of 100 and 200 is\", num1+num2)\n",
    "#Subtraction\n",
    "print(\"The subtraction of 100 and 200 is\",num1-num2)\n",
    "#Multiplication\n",
    "print(\"The multiplication of 100 and 200 is\",num1*num2)\n",
    "#Division\n",
    "print(\"The division of 100 and 200 is\", num1/num2)"
   ]
  },
  {
   "cell_type": "markdown",
   "id": "7110ebc5-6f7b-48d1-939c-1e8cfeaf8e42",
   "metadata": {},
   "source": [
    "# Task 3"
   ]
  },
  {
   "cell_type": "code",
   "execution_count": 3,
   "id": "f93ba921-eae2-42f5-bc0b-e4a84e2a7363",
   "metadata": {},
   "outputs": [
    {
     "name": "stdin",
     "output_type": "stream",
     "text": [
      "Enter a number:  1\n"
     ]
    },
    {
     "name": "stdout",
     "output_type": "stream",
     "text": [
      "This number is positive. Awesome!\n"
     ]
    }
   ],
   "source": [
    "num= int(input(\"Enter a number: \"))\n",
    "if num > 0:\n",
    "    print(\"This number is positive. Awesome!\")\n",
    "elif num < 0:\n",
    "    print(\"This number is negative. Better luck next time!\")\n",
    "elif num == 0:\n",
    "    print(\"Zero it is. A perfect balance!\")"
   ]
  }
 ],
 "metadata": {
  "kernelspec": {
   "display_name": "Python 3 (ipykernel)",
   "language": "python",
   "name": "python3"
  },
  "language_info": {
   "codemirror_mode": {
    "name": "ipython",
    "version": 3
   },
   "file_extension": ".py",
   "mimetype": "text/x-python",
   "name": "python",
   "nbconvert_exporter": "python",
   "pygments_lexer": "ipython3",
   "version": "3.13.1"
  }
 },
 "nbformat": 4,
 "nbformat_minor": 5
}
